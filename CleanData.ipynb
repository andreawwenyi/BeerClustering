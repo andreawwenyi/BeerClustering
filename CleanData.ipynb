{
 "cells": [
  {
   "cell_type": "code",
   "execution_count": 41,
   "metadata": {
    "collapsed": false
   },
   "outputs": [],
   "source": [
    "file = open('beerguide.txt', 'rt')\n",
    "lines = file.readlines()\n",
    "file.close()\n"
   ]
  },
  {
   "cell_type": "code",
   "execution_count": 88,
   "metadata": {
    "collapsed": false
   },
   "outputs": [
    {
     "data": {
      "text/plain": [
       "['American Amber Ale',\n",
       " 'American Pale Ale',\n",
       " 'English-Style Bitter',\n",
       " 'Blonde Ale',\n",
       " 'English-Style Pale Ale (ESB)',\n",
       " 'American Amber Lager',\n",
       " 'German-Style Dunkel',\n",
       " 'German-Style Marzen / Oktoberfest',\n",
       " 'German-Style Schwarzbier',\n",
       " 'Vienna-Style Lager',\n",
       " 'American Brown Ale',\n",
       " 'English-Style Brown Ale',\n",
       " 'English-Style Mild',\n",
       " 'American IPA',\n",
       " 'English-Style IPA',\n",
       " 'Imperial India Pale Ale',\n",
       " 'American-Style Wheat Wine Ale',\n",
       " 'American Wheat',\n",
       " 'Belgian-Style Witbier',\n",
       " 'Berliner-Style Weisse',\n",
       " 'German-Style Dunkelweizen',\n",
       " 'German-Style Hefeweizen',\n",
       " 'American Barley Wine',\n",
       " 'American Imperial Red Ale',\n",
       " 'British-Style Barley Wine Ale',\n",
       " 'English-Style Old Ale',\n",
       " 'Belgian-Style Blonde Ale',\n",
       " 'Belgian-Style Dubbel',\n",
       " 'Belgian-Style Golden Strong Ale',\n",
       " 'Belgian-Style Pale Ale',\n",
       " 'Belgian-Style Quadrupel',\n",
       " 'Belgian-Style Saison',\n",
       " 'Belgian-Style Tripel',\n",
       " 'American Cream Ale',\n",
       " 'French-Style Biere de Garde',\n",
       " 'California Common',\n",
       " 'German-Style Brown/Altbier',\n",
       " 'German-Style Kolsch',\n",
       " 'Irish-Style Red',\n",
       " 'American Imperial Porter',\n",
       " 'Baltic-Style Porter',\n",
       " 'English-Style Brown Porter',\n",
       " 'Robust Porter',\n",
       " 'Smoke Porter',\n",
       " 'American Imperial Stout',\n",
       " 'American Stout',\n",
       " 'English-Style Oatmeal Stout',\n",
       " 'English-Style Sweet Stout (Milk Stout)',\n",
       " 'Irish-Style Dry Stout',\n",
       " 'German-Style Bock',\n",
       " 'German-Style Doppelbock',\n",
       " 'German-Style Maibock',\n",
       " 'German-Style Weizenbock',\n",
       " 'Scotch Ale/Wee Heavy',\n",
       " 'Scottish-Style Ale',\n",
       " 'American Brett',\n",
       " 'American Sour',\n",
       " 'Belgian-Style Flanders',\n",
       " 'Belgian-Style Fruit Lambic',\n",
       " 'Belgian-Style Lambic/Gueuze',\n",
       " 'Contemporary Gose',\n",
       " 'American Lager',\n",
       " 'Bohemian-Style Pilsener',\n",
       " 'European-Style Export',\n",
       " 'German-Style Helles',\n",
       " 'German-Style Pilsener',\n",
       " 'American Black Ale',\n",
       " 'Barrel-Aged Beer',\n",
       " 'Chocolate Beer',\n",
       " 'Coffee Beer',\n",
       " 'Fruit and Field Beer',\n",
       " 'Gluten Free',\n",
       " 'Herb and Spice Beer',\n",
       " 'Honey Beer',\n",
       " 'Pumpkin Beer',\n",
       " 'Rye Beer',\n",
       " 'Session Beer',\n",
       " 'Smoke Beer',\n",
       " 'Specialty Beer']"
      ]
     },
     "execution_count": 88,
     "metadata": {},
     "output_type": "execute_result"
    }
   ],
   "source": [
    "#get the list of all 79 beers\n",
    "a = lines.index('Table of Contents\\n')\n",
    "b = lines.index('Specialty Beer\\n')\n",
    "\n",
    "beerlist = lines[a:b+1]\n",
    "beerlist[:] = [element for element in beerlist if element != '\\n' and '\\ue004' not in element][1:]\n",
    "beerlist = [i.split('\\n', 1)[0] for i in beerlist]\n",
    "\n",
    "beerlist"
   ]
  },
  {
   "cell_type": "code",
   "execution_count": null,
   "metadata": {
    "collapsed": true
   },
   "outputs": [],
   "source": []
  }
 ],
 "metadata": {
  "kernelspec": {
   "display_name": "Python 3",
   "language": "python",
   "name": "python3"
  },
  "language_info": {
   "codemirror_mode": {
    "name": "ipython",
    "version": 3
   },
   "file_extension": ".py",
   "mimetype": "text/x-python",
   "name": "python",
   "nbconvert_exporter": "python",
   "pygments_lexer": "ipython3",
   "version": "3.6.0"
  }
 },
 "nbformat": 4,
 "nbformat_minor": 2
}
