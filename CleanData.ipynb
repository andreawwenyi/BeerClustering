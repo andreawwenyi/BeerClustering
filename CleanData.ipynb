{
 "cells": [
  {
   "cell_type": "code",
   "execution_count": 1,
   "metadata": {
    "collapsed": false
   },
   "outputs": [],
   "source": [
    "file = open('beerguide.txt', 'rt')\n",
    "lines = file.readlines()\n",
    "file.close()\n"
   ]
  },
  {
   "cell_type": "code",
   "execution_count": 14,
   "metadata": {
    "collapsed": true
   },
   "outputs": [],
   "source": [
    "lines[:] = [element for element in lines if element != '\\n' ]\n",
    "lines = [i.split('\\n', 1)[0] for i in lines]"
   ]
  },
  {
   "cell_type": "code",
   "execution_count": 16,
   "metadata": {
    "collapsed": false
   },
   "outputs": [
    {
     "data": {
      "text/plain": [
       "['American Amber Ale',\n",
       " 'American Pale Ale',\n",
       " 'English-Style Bitter',\n",
       " 'Blonde Ale',\n",
       " 'English-Style Pale Ale (ESB)',\n",
       " 'American Amber Lager',\n",
       " 'German-Style Dunkel',\n",
       " 'German-Style Marzen / Oktoberfest',\n",
       " 'German-Style Schwarzbier',\n",
       " 'Vienna-Style Lager',\n",
       " 'American Brown Ale',\n",
       " 'English-Style Brown Ale',\n",
       " 'English-Style Mild',\n",
       " 'American IPA',\n",
       " 'English-Style IPA',\n",
       " 'Imperial India Pale Ale',\n",
       " 'American-Style Wheat Wine Ale',\n",
       " 'American Wheat',\n",
       " 'Belgian-Style Witbier',\n",
       " 'Berliner-Style Weisse',\n",
       " 'German-Style Dunkelweizen',\n",
       " 'German-Style Hefeweizen',\n",
       " 'American Barley Wine',\n",
       " 'American Imperial Red Ale',\n",
       " 'British-Style Barley Wine Ale',\n",
       " 'English-Style Old Ale',\n",
       " 'Belgian-Style Blonde Ale',\n",
       " 'Belgian-Style Dubbel',\n",
       " 'Belgian-Style Golden Strong Ale',\n",
       " 'Belgian-Style Pale Ale',\n",
       " 'Belgian-Style Quadrupel',\n",
       " 'Belgian-Style Saison',\n",
       " 'Belgian-Style Tripel',\n",
       " 'American Cream Ale',\n",
       " 'French-Style Biere de Garde',\n",
       " 'California Common',\n",
       " 'German-Style Brown/Altbier',\n",
       " 'German-Style Kolsch',\n",
       " 'Irish-Style Red',\n",
       " 'American Imperial Porter',\n",
       " 'Baltic-Style Porter',\n",
       " 'English-Style Brown Porter',\n",
       " 'Robust Porter',\n",
       " 'Smoke Porter',\n",
       " 'American Imperial Stout',\n",
       " 'American Stout',\n",
       " 'English-Style Oatmeal Stout',\n",
       " 'English-Style Sweet Stout (Milk Stout)',\n",
       " 'Irish-Style Dry Stout',\n",
       " 'German-Style Bock',\n",
       " 'German-Style Doppelbock',\n",
       " 'German-Style Maibock',\n",
       " 'German-Style Weizenbock',\n",
       " 'Scotch Ale/Wee Heavy',\n",
       " 'Scottish-Style Ale',\n",
       " 'American Brett',\n",
       " 'American Sour',\n",
       " 'Belgian-Style Flanders',\n",
       " 'Belgian-Style Fruit Lambic',\n",
       " 'Belgian-Style Lambic/Gueuze',\n",
       " 'Contemporary Gose',\n",
       " 'American Lager',\n",
       " 'Bohemian-Style Pilsener',\n",
       " 'European-Style Export',\n",
       " 'German-Style Helles',\n",
       " 'German-Style Pilsener',\n",
       " 'American Black Ale',\n",
       " 'Barrel-Aged Beer',\n",
       " 'Chocolate Beer',\n",
       " 'Coffee Beer',\n",
       " 'Fruit and Field Beer',\n",
       " 'Gluten Free',\n",
       " 'Herb and Spice Beer',\n",
       " 'Honey Beer',\n",
       " 'Pumpkin Beer',\n",
       " 'Rye Beer',\n",
       " 'Session Beer',\n",
       " 'Smoke Beer',\n",
       " 'Specialty Beer']"
      ]
     },
     "execution_count": 16,
     "metadata": {},
     "output_type": "execute_result"
    }
   ],
   "source": [
    "#get the list of all 79 beers\n",
    "a = lines.index('Table of Contents')\n",
    "b = lines.index('Specialty Beer')\n",
    "\n",
    "beerlist = lines[a:b+1]\n",
    "beerlist[:] = [element for element in beerlist if '\\ue004' not in element][1:]\n",
    "\n",
    "beerlist"
   ]
  },
  {
   "cell_type": "code",
   "execution_count": 27,
   "metadata": {
    "collapsed": false
   },
   "outputs": [],
   "source": [
    "#beer description\n",
    "beerdes = lines[b+1:]"
   ]
  },
  {
   "cell_type": "code",
   "execution_count": 30,
   "metadata": {
    "collapsed": false
   },
   "outputs": [],
   "source": [
    "b1 = beerdes[beerall.index(beerlist[0]):beerall.index(beerlist[1])]"
   ]
  },
  {
   "cell_type": "code",
   "execution_count": 31,
   "metadata": {
    "collapsed": false
   },
   "outputs": [
    {
     "data": {
      "text/plain": [
       "['American Amber Ale',\n",
       " '\\x0c\\ue002t\\ue006le\\xa0Famil\\ue006:\\xa0Pale\\xa0Ale\\ue004',\n",
       " 'American Amber Ale',\n",
       " 'American-style amber ales have medium-high to high maltiness with medium to low caramel character. They are characterized by',\n",
       " 'American-variety hops, which produce medium hop bitterness, flavor and aroma. American ambers are usually darker in color,',\n",
       " 'have more caramel flavor and less hop aromatics, and may have more body. This style was first made popular by brewers from',\n",
       " 'California and the Pacific Northwest.',\n",
       " 'Quantitative\\xa0\\ue002t\\ue006le\\xa0\\ue002tati\\ue004tic\\ue004',\n",
       " 'OG 1.048 - 1.058',\n",
       " 'FG 1.012 - 1.018',\n",
       " 'ABV 4.4% - 6.1%',\n",
       " 'IBU 25 - 45',\n",
       " 'BU:GU 0.62 - 0.78',\n",
       " 'SRM 11 - 18',\n",
       " 'CO2\\xa0Volumes 2 - 2.5',\n",
       " 'Apparent\\xa0Attenuation 69 - 75',\n",
       " 'U.\\ue002.\\xa0Commercial\\xa0\\ue001xample\\ue004',\n",
       " 'Sabre\\xadToothed\\xa0Squirrel Smog City Brewing Co.',\n",
       " 'Red\\xa0Seal North Coast Brewing Co.',\n",
       " 'Boont\\xa0Amber Anderson Valley Brewing Co.',\n",
       " '\\ue002t\\ue006le\\xa0A-Z',\n",
       " 'Alcohol',\n",
       " 'Mild to Noticeable',\n",
       " 'Color Copper to Reddish Brown',\n",
       " 'Clarity Clear to Slight Haze',\n",
       " 'Country\\xa0of\\xa0Origin United States',\n",
       " 'Collar\\xa0of\\xa0Foam\\xa0(Head\\xa0Retention) Good',\n",
       " 'Collar\\xa0of\\xa0Foam\\xa0(Texture) Foamy',\n",
       " 'Carbonation\\xa0(Visual) Medium to Fast Rising Bubbles',\n",
       " 'Food\\xa0Pairing\\ue004',\n",
       " 'Cheese Medium Cheddar',\n",
       " 'Entrée Barbecue',\n",
       " 'Dessert Banana Pound Cake',\n",
       " 'Glass Tulip',\n",
       " 'Hop\\xa0Aroma/Flavor Citrus-like character is acceptable',\n",
       " 'Malt\\xa0Aroma/Flavor Caramel',\n",
       " 'Hop\\xa0Ingredients Horizon, Cascade, Centennial',\n",
       " 'Malt\\xa0Ingredients English Pale Ale or American Two-Row, Crystal, Victory',\n",
       " 'Palate\\xa0Body Mouth-Coating',\n",
       " 'Palate\\xa0Carbonation Medium to High',\n",
       " 'Palate\\xa0Length/Finish Short to Medium',\n",
       " 'Temperature 45-55°F',\n",
       " 'Water Varies',\n",
       " 'Yea\\ue004t',\n",
       " 'Type Ale',\n",
       " 'Phenols Not common to style',\n",
       " 'Esters There may below levels of fruity-ester flavor',\n",
       " 'source: CraftBeer.com']"
      ]
     },
     "execution_count": 31,
     "metadata": {},
     "output_type": "execute_result"
    }
   ],
   "source": [
    "b1"
   ]
  },
  {
   "cell_type": "code",
   "execution_count": null,
   "metadata": {
    "collapsed": true
   },
   "outputs": [],
   "source": []
  }
 ],
 "metadata": {
  "kernelspec": {
   "display_name": "Python 3",
   "language": "python",
   "name": "python3"
  },
  "language_info": {
   "codemirror_mode": {
    "name": "ipython",
    "version": 3
   },
   "file_extension": ".py",
   "mimetype": "text/x-python",
   "name": "python",
   "nbconvert_exporter": "python",
   "pygments_lexer": "ipython3",
   "version": "3.6.0"
  }
 },
 "nbformat": 4,
 "nbformat_minor": 2
}
