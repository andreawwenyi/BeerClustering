{
 "cells": [
  {
   "cell_type": "code",
   "execution_count": 1,
   "metadata": {
    "collapsed": true
   },
   "outputs": [],
   "source": [
    "import pandas as pd\n",
    "import numpy as np"
   ]
  },
  {
   "cell_type": "code",
   "execution_count": 2,
   "metadata": {
    "collapsed": true
   },
   "outputs": [],
   "source": [
    "file = open('beerguide.txt', 'rt')\n",
    "lines = file.readlines()\n",
    "file.close()"
   ]
  },
  {
   "cell_type": "code",
   "execution_count": 3,
   "metadata": {
    "collapsed": true
   },
   "outputs": [],
   "source": [
    "lines[:] = [element for element in lines if element != '\\n' ]\n",
    "lines = [i.split('\\n', 1)[0] for i in lines]"
   ]
  },
  {
   "cell_type": "code",
   "execution_count": 4,
   "metadata": {
    "collapsed": true,
    "scrolled": true
   },
   "outputs": [],
   "source": [
    "#get the list of all 79 beers\n",
    "a = lines.index('Table of Contents')\n",
    "b = lines.index('Specialty Beer')\n",
    "\n",
    "beerlist = lines[a:b+1]\n",
    "beerlist[:] = [element for element in beerlist if '\\ue004' not in element][1:]"
   ]
  },
  {
   "cell_type": "code",
   "execution_count": 5,
   "metadata": {
    "collapsed": true,
    "scrolled": false
   },
   "outputs": [],
   "source": [
    "#beer description\n",
    "beerdes = lines[b+1:]\n",
    "beerdes = [word.replace('\\xa0',' ') for word in beerdes]\n",
    "beerdes = [word.replace('\\xad','-') for word in beerdes]\n",
    "beerdes = [word.replace('\\x0c','') for word in beerdes]\n",
    "beerdes = [word.replace('\\ue000','B') for word in beerdes]\n",
    "beerdes = [word.replace('\\ue001','E') for word in beerdes]\n",
    "beerdes = [word.replace('\\ue002','S') for word in beerdes]\n",
    "beerdes = [word.replace('\\ue004','s') for word in beerdes]\n",
    "beerdes = [word.replace('\\ue006','y') for word in beerdes]"
   ]
  },
  {
   "cell_type": "code",
   "execution_count": 6,
   "metadata": {
    "collapsed": true
   },
   "outputs": [],
   "source": [
    "feature = ['IBU', 'BU:GU', 'CO2 Volumes', 'Apparent Attenuation', 'Alcohol', \n",
    "             'Collar of Foam (Head Retention)', 'Collar of Foam (Texture)',\n",
    "            'Hop Aroma/Flavor', 'Malt Aroma/Flavor',\n",
    "            'Palate Body', 'Palate Carbonation', 'Palate Length/Finish', 'Esters']"
   ]
  },
  {
   "cell_type": "code",
   "execution_count": 7,
   "metadata": {
    "collapsed": true
   },
   "outputs": [],
   "source": [
    "def beer_info(beer,character):\n",
    "    l = []\n",
    "    for i in range(len(character)):\n",
    "        if character[i] == 'Alcohol':\n",
    "            l.append([ beer[ beer.index('Alcohol')+1]][0])\n",
    "        else:\n",
    "            a = [element for element in beer if character[i] in element]\n",
    "            if a:\n",
    "                l.append(a[0])\n",
    "                l = [word.replace(character[i]+ \" \",'') for word in l]\n",
    "            else:\n",
    "                l.append(None)\n",
    "               \n",
    "    return l"
   ]
  },
  {
   "cell_type": "code",
   "execution_count": 8,
   "metadata": {
    "scrolled": true
   },
   "outputs": [
    {
     "data": {
      "text/plain": [
       "['10 - 15',\n",
       " '0.28 - 0.27',\n",
       " '3.3 - 4.5',\n",
       " '77.78 - 78.5',\n",
       " 'Not Detectable',\n",
       " 'Good',\n",
       " 'Foamy to Rocky',\n",
       " 'None',\n",
       " 'Grainy',\n",
       " 'Varies',\n",
       " 'Medium to High',\n",
       " 'Medium',\n",
       " None]"
      ]
     },
     "execution_count": 8,
     "metadata": {},
     "output_type": "execute_result"
    }
   ],
   "source": [
    "j = 60\n",
    "b = beerdes[beerdes.index(beerlist[j]):beerdes.index(beerlist[j+1])]\n",
    "beer_info(beer = b, character = feature)"
   ]
  },
  {
   "cell_type": "code",
   "execution_count": 9,
   "metadata": {},
   "outputs": [
    {
     "data": {
      "text/plain": [
       "['American Sour',\n",
       " 'Style Family: Wild/Sour Beers',\n",
       " 'American Sour',\n",
       " 'The acidity present in these beers is usually in the form of lactic, acetic and other organic acids naturally developed with acidified',\n",
       " 'malt in the mash, or produced during fermentation by the use of various microorganisms. These beers may derive their sour flavor',\n",
       " 'from pure cultured forms of souring agents or from the influence of barrel aging.',\n",
       " 'Quantitative Style Statistics',\n",
       " 'OG Varies',\n",
       " 'FG Varies',\n",
       " 'ABV Varies',\n",
       " 'IBU Varies',\n",
       " 'BU:GU Varies',\n",
       " 'SRM Varies',\n",
       " 'CO2 Volumes Varies',\n",
       " 'Apparent Attenuation Varies',\n",
       " 'U.S. Commercial Examples',\n",
       " 'Excommunication, Forte Cerise',\n",
       " \"Max Lager's Wood-Fired Grill & Brewery\",\n",
       " 'Ching Ching Bend Brewing Co.',\n",
       " 'Style A-Z',\n",
       " 'Queen of Tarts Karl Strauss Brewing Co.',\n",
       " 'Brewing/Conditioning Process Wood vessels may be used during the fermentation and aging process, but',\n",
       " 'Alcohol',\n",
       " 'Varies',\n",
       " 'wood-derived flavors such as vanillin must not be present',\n",
       " 'Color Any range of color, and may take on the color of other ingredients',\n",
       " 'Clarity Varies',\n",
       " 'Collar of Foam (Head Retention) Varies',\n",
       " 'Collar of Foam (Texture) Varies',\n",
       " 'Carbonation (Visual) Varies',\n",
       " 'Country of Origin United States',\n",
       " 'Food Pairings',\n",
       " 'Cheese Strongly Flavored Cheeses',\n",
       " 'Entrée Varies',\n",
       " 'Dessert Creamy Desserts with Fruit',\n",
       " 'Glass Goblet',\n",
       " 'Hop Ingredients Varies',\n",
       " 'Hop Aroma/Flavor Hop aroma, flavor and bitterness are evident over a full range from low to high',\n",
       " 'Malt Aroma/Flavor In darker versions, roasted malt, caramel-like and chocolate-like aromas are',\n",
       " 'subtly present',\n",
       " 'Malt Ingredients Varies',\n",
       " 'Other ingredients Varies',\n",
       " 'Palate Body Varies',\n",
       " 'Palate Carbonation Low to High',\n",
       " 'Palate Length/Finish Varies',\n",
       " 'Temperature 40-50°F',\n",
       " 'Water Varies',\n",
       " 'Yeast',\n",
       " 'Type Ale, Brettanomyces possible',\n",
       " 'Phenols Can be present.',\n",
       " 'Esters Moderate to intense, yet balanced, fruity ester aromas are evident',\n",
       " 'Fermentation Byproducts Bacteria- and yeast-induced haze are acceptable at any temperature',\n",
       " 'Microorganisms Lactobacillus',\n",
       " 'source: CraftBeer.com']"
      ]
     },
     "execution_count": 9,
     "metadata": {},
     "output_type": "execute_result"
    }
   ],
   "source": [
    "beerdes[beerdes.index(beerlist[56]):beerdes.index(beerlist[57])]"
   ]
  },
  {
   "cell_type": "code",
   "execution_count": 10,
   "metadata": {
    "collapsed": true
   },
   "outputs": [],
   "source": [
    "# %debug\n",
    "beer_dic = {}\n",
    "\n",
    "for j in range(len(beerlist)):\n",
    "    if j == len(beerlist)-1:\n",
    "        b = beerdes[beerdes.index(beerlist[j]):]\n",
    "    else:\n",
    "        b = beerdes[beerdes.index(beerlist[j]):beerdes.index(beerlist[j+1])]\n",
    "    beer_dic[beerlist[j]] = beer_info(beer = b, character = feature)"
   ]
  },
  {
   "cell_type": "code",
   "execution_count": 11,
   "metadata": {
    "collapsed": true
   },
   "outputs": [],
   "source": [
    "df = pd.DataFrame(beer_dic, index= feature).transpose()"
   ]
  },
  {
   "cell_type": "code",
   "execution_count": 12,
   "metadata": {
    "collapsed": true
   },
   "outputs": [],
   "source": [
    "df.loc['Bohemian-Style Pilsener'].IBU = '30 - 45'"
   ]
  },
  {
   "cell_type": "code",
   "execution_count": 13,
   "metadata": {},
   "outputs": [
    {
     "name": "stdout",
     "output_type": "stream",
     "text": [
      "IBU \n",
      " ['25 - 45' '18 - 30' '60 - 100' '50 - 70' 'Varies' '10 - 22' '35 - 50'\n",
      " '55 - 85' '50 - 80' '5 - 15' '30 - 50' '35 - 60' '10 - 35' '45 - 85'\n",
      " '35 - 40' '15 - 30' '20 - 35' '5 - 18' '15 - 21' '20 - 50' '9 - 23'\n",
      " '20 - 30' '25 - 50' '20 - 38' '20 - 45' '10 - 17' '3 - 6' '15 - 25'\n",
      " '30 - 45' '40 - 60' '35 - 45' '15 - 40' '15 - 45' '10 - 15' '35 - 63'\n",
      " '10 - 24' '20 - 40' '30 - 65' '23 - 29' '5 - 45' '25 - 52' '17 - 27'\n",
      " '16 - 25' '18 - 25' '18 - 28' '25 - 40' '22 - 30' '15 - 35' '5 - 40'\n",
      " '1 - 100' '65 - 100' '30 - 40' '20 - 28' '5 - 70' '25 - 35' '9 - 25'\n",
      " '22 - 28']\n",
      "BU:GU \n",
      " ['0.62 - 0.78' '0.43 - 0.54' '0.67 - 0.83' '0.89 - 0.93' 'Varies'\n",
      " '0.62 - 0.75' '0.23 - 0.42' '0.83 - 0.93' '0.44 - 0.50' '0.69 - 0.85'\n",
      " '0.62 - 0.80' '0.13 - 0.31' '0.68 - 1.00' '0.70 - 0.80' '0.28 - 0.62'\n",
      " '0.51 - 0.71' '0.47 - 0.49' '0.28 - 0.44' '0.33 - 0.40' '0.11 - 0.32'\n",
      " '0.29 - 0.38' '0.31 - 0.52' '0.20 - 0.41' '0.45 - 0.56' '0.30 - 0.42'\n",
      " '0.50 - 0.50' '0.29 - 0.49' '0.23 - 0.34' '0.11 - 0.19' '0.33 - 0.45'\n",
      " '0.68 - 0.80' '0.47 - 0.50' '0.78 - 0.80' '0.36 - 0.50' '0.50 - 0.41'\n",
      " '0.28 - 0.27' '0.61 - 0.92' '0.38 - 0.50' '0.50 - 0.60' '0.70 - 0.98'\n",
      " '0.33 - 0.67' '0.53 - 0.71' '0.52 - 0.74' '0.50 - 0.71' '0.48 - 0.52'\n",
      " '0.33 - 0.38' '0.17 - 0.64' '0.30 - 0.41' '0.57 - 1.00' '0.21 - 0.27'\n",
      " '0.41 - 0.50' '0.43 - 0.58' '0.30 - 0.51' '0.36 - 0.42' '0.57 - 0.73'\n",
      " '0.50 - 0.58' '0.23 - 0.44' '0.17 - 0.36' '0.03 - 0.91' '0.87 - 1.00'\n",
      " '0.79 - 0.83' '0.56 - 0.67' '0.35 - 0.41' '0.30 - 0.50' '0.29 - 0.87'\n",
      " '0.40 - 0.62' '0.48 - 0.50']\n",
      "CO2 Volumes \n",
      " ['2 - 2.5' '2.5 approximately' 'Varies' '2.2 - 2.7' '2.5 - 3' '3 - 4'\n",
      " '4 approximately' '1 - 1.5' '3 - 3.5' '3.5 - 4' '1.5 - 2' '3.3 - 4.5'\n",
      " '2 approximately' '1.5 - 2.5']\n",
      "Apparent Attenuation \n",
      " ['69 - 75' '68 - 76' '73 - 77' '76 - 79' 'Varies' '70 - 75' '81 - 91'\n",
      " '76 - 80' '72 - 75' '70.83 - 85.00' '72 - 82' '71 - 80' '68 - 89'\n",
      " '73 - 73' '76 - 78' '78 - 85' '79 - 80' '71 - 82' '78 - 80' '75 - 88'\n",
      " '82 - 100' '74 - 82' '83 - 83' '83 - 75' '80 - 89' '80 - 86' '81 - 86'\n",
      " '64 - 68' '72 - 77' '68 - 78' '73 - 80' '77.78 - 78.5' '68 - 82' '72 - 80'\n",
      " '72 - 85' '72 - 76' '78 - 87' '64 - 79' '66 - 76' '64 - 73' '75 - 79'\n",
      " '70 - 80' '68 - 73' '73 - 82' '75 - 81' '68 - 71' '71 - 83' '76 - 82'\n",
      " '79 - 86' '67 - 76' '78 - 86' '69 - 77' '65 - 76' '80 - 84' '71 - 75'\n",
      " '67 - 78' '64 - 80' '68 - 74']\n",
      "Alcohol \n",
      " ['Mild to Noticeable' 'Noticeable to Hot' 'Varies' 'Not Detectable to Mild'\n",
      " 'Noticeable' 'Mild' 'Noticeable to Harsh' 'Not Detectable'\n",
      " 'Not Detectable to Noticeable']\n",
      "Collar of Foam (Head Retention) \n",
      " ['Good' 'Poor' 'Varies' 'Poor to Moderate' 'Poor to Good' 'Moderate']\n",
      "Collar of Foam (Texture) \n",
      " ['Foamy' 'Thin' 'Varies' 'Thin to Foamy' 'Thin to Interrupted'\n",
      " 'Thin to Fluffy' 'Mousse-like' 'Rocky to Mousse-like' 'Rocky'\n",
      " 'Foamy to Rocky']\n",
      "Hop Aroma/Flavor \n",
      " ['Citrus-like character is acceptable'\n",
      " 'Hop flavor and aroma are very low to medium-high. Hop bitterness is very low'\n",
      " 'Hop aroma and flavor are medium to very high. Hop bitterness is high.'\n",
      " 'Hop aroma is medium-high to high, with hops of all origins contributing fruity,'\n",
      " 'Hop aroma, flavor and bitterness are evident over a full range from low to high'\n",
      " 'Hop aroma and flavor are low to medium. Hop bitterness is medium to high'\n",
      " 'Hop aroma is usually absent, and hop flavor is very low to low. Hop bitterness is'\n",
      " 'Hop aroma is high and hop flavor is strong both with floral qualities and citrus-'\n",
      " 'Hop aroma and flavor are low to medium-high. Hop bitterness is medium-low'\n",
      " 'Hop aroma, flavor and bitterness are high but balanced, arising from any variety'\n",
      " 'Hop aroma and flavor are medium-high to high, with floral, citrus and/or'\n",
      " 'Low'\n",
      " 'Hop aroma and flavor are medium to medium-high, exhibiting fruity, floral, and'\n",
      " 'Hop aroma and flavor are medium to high, often with American citrus-type'\n",
      " 'Hop aroma, flavor and bitterness are low to medium'\n",
      " 'Hop aroma and flavor are low to medium. Hop bitterness is medium to'\n",
      " 'Hop aroma and flavor are very low. Hop bitterness is low to medium-low'\n",
      " 'Varies'\n",
      " 'Hop flavor and aroma are not perceived to low. Hop bitterness is very low to low'\n",
      " 'Hop aroma and flavor are not perceived to low. Hop bitterness is medium-low'\n",
      " 'Hop aroma and flavor are not perceived. Hop bitterness is perceived to be very'\n",
      " 'Hop aroma, flavor and bitterness are not perceived to very low, and can include'\n",
      " 'Hop aroma and flavor are medium-low to medium-high. Hop bitterness is'\n",
      " 'Hop aroma and flavor are low but noticeable; noble-type hops are commonly'\n",
      " 'Hop aroma and flavor are not perceived to very low. Hop bitterness is low to'\n",
      " 'Hop aroma is low to medium. Hop bitterness is medium to medium-high'\n",
      " 'Hop aroma and flavor are not perceived to low. Hop bitterness is medium to'\n",
      " 'Hop flavor and aroma are not perceived to low. Hop bitterness is low, achieved'\n",
      " 'Hop aroma and flavor are not perceived. Hop bitterness is not perceived to very'\n",
      " 'Hop aroma is low to medium-low, present but not dominant. Hop bitterness is low to medium-low.'\n",
      " 'Hop aroma and flavor are low to medium-low, deriving from noble-type hops.'\n",
      " 'Hop flavor and aroma are very low to medium. Hop bitterness is low to'\n",
      " 'Hop flavor is low to medium-low and may present as Woody, Rustic, or Minty.'\n",
      " 'Hop flavor and aroma are lower than might be expected for the style. Under-'\n",
      " 'Hop flavor is reflective of aroma and can be low to high depending on the intent'\n",
      " 'None' \"Hop aroma may be evident at the brewer's discretion\"\n",
      " 'Hop aroma and flavor is very low. Hop bitterness is very low to low'\n",
      " 'Hop aroma and flavor are not perceived to medium. Hop bitterness is medium'\n",
      " 'Hop aroma is medium to high, often flowery. Hop flavor and bitterness are'\n",
      " 'Hop flavor is low to very low'\n",
      " 'Hop aroma and flavor are optional, but should not overpower the overall'\n",
      " 'Hop aroma and flavor are not perceived to medium. Hop bitterness is minimal'\n",
      " 'Hop flavor is medium to medium-high. Hop bitterness is medium to medium-'\n",
      " 'Hop aroma and flavor are not perceived. Hop bitterness is low to medium-low'\n",
      " 'Hop flavor and aroma are very low to low, deriving from noble-type hops. Hop'\n",
      " 'Hop aroma and flavor are low to medium, from noble-type hops. Hop bitterness'\n",
      " 'Hop bitterness is very low to medium-high'\n",
      " 'Hop flavor is low. Hop bitterness is perceived as medium, increasing'\n",
      " 'Hop flavor is low to medium. Hop bitterness is medium to very high (although'\n",
      " 'Hop aroma should be absent. Hop flavor and bitterness are low'\n",
      " 'Hop aroma and flavor are not perceived. Hop bitterness is low'\n",
      " 'Hop flavor is not perceived to very low. Hop bitterness is very low'\n",
      " 'Hop aroma is not perceived to low. Hop flavor and bitterness are very low to'\n",
      " 'Hop flavor is low and, if evident, should express noble hop character. Hop'\n",
      " 'Hop aroma and flavor are low to medium low, deriving from noble-type hops.'\n",
      " 'Hop aroma and flavor are very low to low. Hop bitterness is medium low to'\n",
      " 'Hop flavor is moderate and quite obvious, deriving from late hopping (not dry-'\n",
      " 'Hop aroma and flavor are very low to low, deriving from noble-type hops. Hop'\n",
      " 'Hop aroma is not perceived. Hop bitterness is low'\n",
      " 'Hop aroma is not essential, but may be evident at low levels and should not'\n",
      " 'Hop bitterness is very low to very high, and may be used for highlighting desired'\n",
      " 'Hop flavor and aroma are very high, should be fresh and lively and should not'\n",
      " 'Hop aroma and flavor are are not perceived to low, from European-type hops.'\n",
      " 'Hop aroma is not perceived or low. Hop flavor and bitterness are medium'\n",
      " 'Hop bitterness is low to medium-low'\n",
      " 'Hop aroma and flavor are very low to medium. Hop bitterness is medium to'\n",
      " 'Hop flavor and aroma are low to medium-high. Hop bitterness is low to'\n",
      " 'Hop aroma and flavor are not perceived. Hop bitterness is low but perceptible'\n",
      " 'Hop aroma and flavor are not perceived. Hop bitterness is low.'\n",
      " 'Hop aroma, flavor and bitterness are very low to low']\n",
      "Malt Aroma/Flavor \n",
      " ['Caramel'\n",
      " 'Low to medium-low caramel-type or toasted malt aromas are often present'\n",
      " 'Caramel, Toffee, Bready, Sweet'\n",
      " 'Medium caramel malt and dark roasted malt aromas are evident' 'Varies'\n",
      " 'Caramel, Chocolate, Toast' 'Grainy' 'Biscuit, Bready, Caramel'\n",
      " 'No roasted barley or strong burnt/black malt character should be perceived.'\n",
      " 'Medium to high caramel malt character is present'\n",
      " 'Bittersweet Chocolate, Cocoa, Coffee'\n",
      " 'In darker versions, roasted malt, caramel-like and chocolate-like aromas are'\n",
      " 'Low to medium malt sweetness with low to medium caramel, chocolate, and/or'\n",
      " 'Grainy Wheat'\n",
      " 'Bready, wheat, honey-like and/or caramel malt aromas are often present'\n",
      " 'Distinctive malt aromas of caramelized sugars, licorice, and chocolate-like notes'\n",
      " 'Malt aroma and flavor are low' 'Chocolate, Caramel, Toast'\n",
      " 'Roasted malt aromas including a cocoa-like character are acceptable at low'\n",
      " 'Sweet malt characters are not perceived'\n",
      " 'These beers can be malty in overall impression, or dry and highly attenuated'\n",
      " 'Caramel, Toast'\n",
      " 'Caramel, dark sugar and malty sweet flavors and aromas can be intense, not'\n",
      " 'Malt flavor is low but provides foundation for the overall balance'\n",
      " 'Low sweetness from very pale malts is present'\n",
      " 'Malt aroma and flavor are very low to low' 'Not Perceived'\n",
      " 'Light malt sweetness is present in the flavor. Bread, toast, biscuit and wheat flavors are common.'\n",
      " 'Toasted, biscuit-like, and/or bready malt flavors along with low levels of'\n",
      " 'Nutty, Caramel, Biscuit'\n",
      " 'Noticeable caramel-type malt flavor should be present'\n",
      " 'Medium-low to medium-high malt sweetness helps accent cocoa flavors and'\n",
      " 'Medium-low to medium malt sweetness helps accent coffee flavors and aromas.'\n",
      " 'Low to medium residual malt sweetness is present'\n",
      " 'Balance ranges from dry to sweet maltiness. Roast malt tones of toffee, nuts and'\n",
      " 'Nutty, Chocolate, Caramel, Bready, Toffee'\n",
      " 'Bready, Biscuit, Toast, Caramel, Toffee'\n",
      " 'Caramel, Chocolate, Coffee, Licorice, Raisin, Molasses. Malt flavors dominate'\n",
      " 'Coffee-like roasted barley and roasted malt aromas are prominent. Caramel-like'\n",
      " 'A malty and sometimes caramel-like sweetness may be evident.'\n",
      " 'Residual malt and defining sweetness is medium to medium-high'\n",
      " 'Malt sweetness, chocolate, and caramel should dominate the flavor profile. Malt'\n",
      " 'Sweet malt flavor can be low and should not be caramel-like'\n",
      " 'Toast, Caramel, Toffee' 'Malt sweetness is very low to medium-high'\n",
      " 'High malt character with aromas of toasted or nut-like malt, but not caramel'\n",
      " 'Sweet malt character that may have a rich, biscuity, and/or light caramel flavor'\n",
      " 'Dominant aromas are reminiscent of fresh and lightly toasted Munich-style'\n",
      " 'Malt aroma is low to medium, with chocolate-like, roasted malt, bread-like or'\n",
      " 'Bready or grainy, with a distinct sweet maltiness and a chocolate-like character'\n",
      " 'Malt sweetness is very low to medium-low'\n",
      " 'Malt character is sometimes bread-like, yet always reminiscent of freshly and'\n",
      " 'Malt character is a very low to low with a soft sweetness'\n",
      " 'A lightly toasted and/or bready malt aroma is often evident. Roasted or heavy'\n",
      " 'Toast' 'A sweet, malty residual aroma can be perceived'\n",
      " 'Reminiscent of bitter chocolate or coffee. Malt sweetness is low to medium, and'\n",
      " 'Nutmeg, vanilla, caramel, plums, prunes, raisins, grapes and cocoa, with rum'\n",
      " 'Malted barley, wheat and other gluten-rich grains should not be perceived'\n",
      " 'Malt character is medium to high'\n",
      " 'Dry stouts achieve a dry-roasted character through the use of roasted barley.'\n",
      " 'Low to medium candy-like caramel malt sweetness is present. May have a subtle'\n",
      " 'Malt sweetness is low to medium-high'\n",
      " 'Grainy, Bready, Toffee, Caramel, Chocolate, Coffee. Caramel and other malty'\n",
      " 'In darker versions, malt aromas can optionally include low roasted malt'\n",
      " 'Dominated by a smooth, balanced sweet maltiness. Will also have a medium'\n",
      " 'Caramel, Toffee'\n",
      " 'Black malt character can be perceived in some porters, while others may be'\n",
      " 'Aroma should have a notable degree of toasted and/or slightly roasted malt']\n",
      "Palate Body \n",
      " ['Mouth-Coating' 'Soft' 'Mouth-Coating to Sticky' 'Varies' 'Soft to Sticky'\n",
      " 'Drying' 'Soft to Moderate' 'Drying to Soft' 'Moderate'\n",
      " 'Soft to Mouth-Coating' 'Moderate to Mouth-Coating']\n",
      "Palate Carbonation \n",
      " ['Medium to High' 'Low to Medium' 'Medium' 'Low to High' 'High'\n",
      " 'Very Low to High' 'Low']\n",
      "Palate Length/Finish \n",
      " ['Short to Medium' 'Medium to Long' 'Varies' 'Medium' 'Short' 'Long']\n",
      "Esters \n",
      " ['There may below levels of fruity-ester flavor' 'Not common to style'\n",
      " 'Fruity-ester flavors are often high' 'Can be present'\n",
      " 'Fruity-ester flavors, if present, should be subdued'\n",
      " 'Not common to style.' 'Citrus, Tropical Fruit, Pine'\n",
      " 'Ale-like fruity ester flavors should be evident but not overpowering,'\n",
      " 'Medium.' 'Fruity esters are generally high'\n",
      " 'Low fruity-ester flavors are acceptable'\n",
      " 'Moderate to intense, yet balanced, fruity ester aromas are evident'\n",
      " 'Fruity-esters flavors are low, if present'\n",
      " 'Fruity-ester aroma is often high and counterbalanced with complex alcohol'\n",
      " 'May include very low to low complex alcohol flavors and/or lager fruitiness such'\n",
      " 'Low to medium fruity-ester aromas may be present and balanced with light'\n",
      " 'Fruit (Banana)'\n",
      " 'Fruit-ester aromas, which are often cherry-like, are apparent. May also have'\n",
      " 'Can be present.' 'Fruit (Pear, Orange, Apple)'\n",
      " 'High to very high fruity ester aromas are present' 'Fruit (Pear, Orange)'\n",
      " 'Complex fruity flavors reminiscent of raisins, dates, figs, grapes and/or plums'\n",
      " 'Fruit (Orange, Lemon)' 'Fruit (Orange, Banana)' 'Orange, Citrus'\n",
      " 'Fruity-ester flavors will be evident'\n",
      " 'Fruity esters may be perceived but not predominant.'\n",
      " 'Fruity-ester characters are often high and balanced with the high alcohol'\n",
      " 'Fruity-ester aromas, if present, should be low to medium-low' None\n",
      " 'Fruity esters are common.' 'Fruit (varies)'\n",
      " 'Fruity esters may be present'\n",
      " 'Fruity ester aromas are moderate to very strong'\n",
      " 'Fruity-ester flavors, if present, are very low to medium-low'\n",
      " 'Fruity ester flavors are very low' 'Fruit (Varies)'\n",
      " 'Fruity-ester and very low diacetyl flavors are acceptable, but should be'\n",
      " 'Fruity ester flavors are low, if present'\n",
      " 'Fruity-ester flavors can be low to medium in intensity'\n",
      " 'Fruity-ester aromas should be minimal, if present'\n",
      " 'Fruity-ester flavors, if present, can be low' 'Prune, Plum, Grape'\n",
      " 'The ester flavors of Dunkel Weissbier should be evident but subdued'\n",
      " 'Banana'\n",
      " 'Light pear, apple or Riesling wine-like fruitiness may be apparent'\n",
      " 'Fruity-ester flavors may be low, if present'\n",
      " 'Fruity-ester and banana-like elements'\n",
      " 'Fruity ester aroma and flavor are high.'\n",
      " 'Fruity esters are minimal and overshadowed by malt, high hop bitterness and'\n",
      " 'Low levels of fruity-ester flavor are acceptable'\n",
      " 'Fruity esters should be evident, balanced with all other characters'\n",
      " 'Low level fruity-ester flavors are typical'\n",
      " 'Plums, Raisin, Dried Fruit. A peaty/smoky character may be evident at low'\n",
      " 'Fruity-ester aroma is acceptable. A mild to assertive smoke malt aroma will be']\n"
     ]
    }
   ],
   "source": [
    "for i in df.columns:\n",
    "    print(i, '\\n', df[i].unique())"
   ]
  },
  {
   "cell_type": "markdown",
   "metadata": {},
   "source": [
    "Alcohol: Not Detectable(0), Mild(1), Noticeable(2), Hot(3)\n",
    "Collar of Foam/ Head Retention: Poor(1), Moderate(2), Good(3)\n",
    "Collar of Foam/ Texture: Thin, Foamy/Fluffy, Rocky"
   ]
  },
  {
   "cell_type": "code",
   "execution_count": 14,
   "metadata": {},
   "outputs": [
    {
     "name": "stderr",
     "output_type": "stream",
     "text": [
      "/Users/Mengfei/anaconda/lib/python3.6/site-packages/pandas/core/indexing.py:179: SettingWithCopyWarning: \n",
      "A value is trying to be set on a copy of a slice from a DataFrame\n",
      "\n",
      "See the caveats in the documentation: http://pandas.pydata.org/pandas-docs/stable/indexing.html#indexing-view-versus-copy\n",
      "  self._setitem_with_indexer(indexer, value)\n"
     ]
    }
   ],
   "source": [
    "#Clean IBU, BU:GU, Apparent Attenuation\n",
    "#Use mid-point of the range\n",
    "#If varies, use mid-point of the entire range\n",
    "\n",
    "df['IBU'].loc[df['IBU'] == 'Varies'] = '50 - 50'\n",
    "df['IBU'] = (df.IBU.str.split(' ').str[0].astype(float) + df.IBU.str.split(' ').str[2].astype(float))/2\n",
    "\n",
    "df['BU:GU'].loc[df['BU:GU'] == 'Varies'] = '0.5 - 0.5'\n",
    "df['BU:GU'] = (df['BU:GU'].str.split(' ').str[0].astype(float) + df['BU:GU'].str.split(' ').str[2].astype(float))/2\n",
    "\n",
    "df['Apparent Attenuation'].loc[df['Apparent Attenuation'] == 'Varies'] = '50 - 50'\n",
    "df['Apparent Attenuation'] = (df['Apparent Attenuation'].str.split(' ').str[0].astype(float) + df['Apparent Attenuation'].str.split(' ').str[2].astype(float))/2"
   ]
  },
  {
   "cell_type": "code",
   "execution_count": 15,
   "metadata": {},
   "outputs": [
    {
     "name": "stderr",
     "output_type": "stream",
     "text": [
      "/Users/Mengfei/anaconda/lib/python3.6/site-packages/pandas/core/indexing.py:179: SettingWithCopyWarning: \n",
      "A value is trying to be set on a copy of a slice from a DataFrame\n",
      "\n",
      "See the caveats in the documentation: http://pandas.pydata.org/pandas-docs/stable/indexing.html#indexing-view-versus-copy\n",
      "  self._setitem_with_indexer(indexer, value)\n"
     ]
    }
   ],
   "source": [
    "#Clean CO2 Volumes\n",
    "#Use mid-point of the range\n",
    "#If varies, use mid-point of the entire range\n",
    "#If approximately, use the approximation value\n",
    "\n",
    "df['CO2 Volumes'].loc[df['CO2 Volumes'] == 'Varies'] = '2.5 - 2.5'\n",
    "df['CO2 Volumes'] = df['CO2 Volumes'].str.replace(r'\\b approximately', '')\n",
    "\n",
    "CO2_1st_all = df['CO2 Volumes'].str.split(' ').str[0].astype(float)\n",
    "CO2_3rd_all = df['CO2 Volumes'].str.split(' ').str[2].astype(float)\n",
    "CO2_1st_no_nan = df['CO2 Volumes'].loc[CO2_3rd_all.isnull() == False].str.split(' ').str[0].astype(float)\n",
    "CO2_3rd_no_nan = df['CO2 Volumes'].loc[CO2_3rd_all.isnull() == False].str.split(' ').str[2].astype(float)\n",
    "\n",
    "df['CO2 Volumes'].loc[CO2_3rd_all.isnull() == True] = CO2_1st_all\n",
    "df['CO2 Volumes'].loc[CO2_3rd_all.isnull() == False] = (CO2_1st_no_nan + CO2_3rd_no_nan) / 2"
   ]
  },
  {
   "cell_type": "code",
   "execution_count": 16,
   "metadata": {},
   "outputs": [
    {
     "name": "stderr",
     "output_type": "stream",
     "text": [
      "/Users/Mengfei/anaconda/lib/python3.6/site-packages/pandas/core/indexing.py:179: SettingWithCopyWarning: \n",
      "A value is trying to be set on a copy of a slice from a DataFrame\n",
      "\n",
      "See the caveats in the documentation: http://pandas.pydata.org/pandas-docs/stable/indexing.html#indexing-view-versus-copy\n",
      "  self._setitem_with_indexer(indexer, value)\n"
     ]
    }
   ],
   "source": [
    "#Alcohol: Not detectable, Mild, Noticeable, Harsh/Hot， Varies\n",
    "#Create binary columns for each value\n",
    "df['Alcohol_Not_Det'] = df['Alcohol'].loc[df['Alcohol'].str.contains(r'\\bNot Detectable') == True] \n",
    "df['Alcohol_Not_Det'].loc[df['Alcohol_Not_Det'].isnull() == False] = 1\n",
    "df['Alcohol_Not_Det'].loc[df['Alcohol_Not_Det'].isnull() == True] = 0\n",
    "\n",
    "df['Alcohol_Mild'] = df['Alcohol'].loc[df['Alcohol'].str.contains(r'\\bMild') == True] \n",
    "df['Alcohol_Mild'].loc[df['Alcohol_Mild'].isnull() == False] = 1\n",
    "df['Alcohol_Mild'].loc[df['Alcohol_Mild'].isnull() == True] = 0\n",
    "\n",
    "df['Alcohol_Noticeable'] = df['Alcohol'].loc[df['Alcohol'].str.contains(r'\\bNoticeable') == True] \n",
    "df['Alcohol_Noticeable'].loc[df['Alcohol_Noticeable'].isnull() == False] = 1\n",
    "df['Alcohol_Noticeable'].loc[df['Alcohol_Noticeable'].isnull() == True] = 0\n",
    "\n",
    "df['Alcohol_Harsh'] = df['Alcohol'].loc[df['Alcohol'].str.contains(r'\\bHot|\\bHarsh') == True] \n",
    "df['Alcohol_Harsh'].loc[df['Alcohol_Harsh'].isnull() == False] = 1\n",
    "df['Alcohol_Harsh'].loc[df['Alcohol_Harsh'].isnull() == True] = 0\n",
    "\n",
    "df['Alcohol_Varies'] = df['Alcohol'].loc[df['Alcohol'].str.contains(r'\\bVaries') == True] \n",
    "df['Alcohol_Varies'].loc[df['Alcohol_Varies'].isnull() == False] = 1\n",
    "df['Alcohol_Varies'].loc[df['Alcohol_Varies'].isnull() == True] = 0"
   ]
  },
  {
   "cell_type": "code",
   "execution_count": 17,
   "metadata": {},
   "outputs": [
    {
     "name": "stderr",
     "output_type": "stream",
     "text": [
      "/Users/Mengfei/anaconda/lib/python3.6/site-packages/pandas/core/indexing.py:179: SettingWithCopyWarning: \n",
      "A value is trying to be set on a copy of a slice from a DataFrame\n",
      "\n",
      "See the caveats in the documentation: http://pandas.pydata.org/pandas-docs/stable/indexing.html#indexing-view-versus-copy\n",
      "  self._setitem_with_indexer(indexer, value)\n"
     ]
    }
   ],
   "source": [
    "#Collar of Foam (Head Retention): Poor, Moderate, Good, Varies\n",
    "#Create binary columns for each value\n",
    "df['Foam_Head_Ret_Poor'] = df['Collar of Foam (Head Retention)'].loc[df['Collar of Foam (Head Retention)'].str.contains(r'\\bPoor') == True] \n",
    "df['Foam_Head_Ret_Poor'].loc[df['Foam_Head_Ret_Poor'].isnull() == False] = 1\n",
    "df['Foam_Head_Ret_Poor'].loc[df['Foam_Head_Ret_Poor'].isnull() == True] = 0\n",
    "\n",
    "df['Foam_Head_Ret_Mod'] = df['Collar of Foam (Head Retention)'].loc[df['Collar of Foam (Head Retention)'].str.contains(r'\\bModerate') == True] \n",
    "df['Foam_Head_Ret_Mod'].loc[df['Foam_Head_Ret_Mod'].isnull() == False] = 1\n",
    "df['Foam_Head_Ret_Mod'].loc[df['Foam_Head_Ret_Mod'].isnull() == True] = 0\n",
    "\n",
    "df['Foam_Head_Ret_Good'] = df['Collar of Foam (Head Retention)'].loc[df['Collar of Foam (Head Retention)'].str.contains(r'\\bGood') == True] \n",
    "df['Foam_Head_Ret_Good'].loc[df['Foam_Head_Ret_Good'].isnull() == False] = 1\n",
    "df['Foam_Head_Ret_Good'].loc[df['Foam_Head_Ret_Good'].isnull() == True] = 0\n",
    "\n",
    "df['Foam_Head_Ret_Varies'] = df['Collar of Foam (Head Retention)'].loc[df['Collar of Foam (Head Retention)'].str.contains(r'\\bVaries') == True] \n",
    "df['Foam_Head_Ret_Varies'].loc[df['Foam_Head_Ret_Varies'].isnull() == False] = 1\n",
    "df['Foam_Head_Ret_Varies'].loc[df['Foam_Head_Ret_Varies'].isnull() == True] = 0"
   ]
  },
  {
   "cell_type": "code",
   "execution_count": 18,
   "metadata": {},
   "outputs": [
    {
     "name": "stderr",
     "output_type": "stream",
     "text": [
      "/Users/Mengfei/anaconda/lib/python3.6/site-packages/pandas/core/indexing.py:179: SettingWithCopyWarning: \n",
      "A value is trying to be set on a copy of a slice from a DataFrame\n",
      "\n",
      "See the caveats in the documentation: http://pandas.pydata.org/pandas-docs/stable/indexing.html#indexing-view-versus-copy\n",
      "  self._setitem_with_indexer(indexer, value)\n"
     ]
    }
   ],
   "source": [
    "#Collar of Foam (Texture): Thin, Interrupted, Foamy, Fluffy, Rocky, Mousse-like, Varies\n",
    "#Create binary columns for each value\n",
    "df['Foam_Texture_Thin'] = df['Collar of Foam (Texture)'].loc[df['Collar of Foam (Texture)'].str.contains(r'\\bThin') == True] \n",
    "df['Foam_Texture_Thin'].loc[df['Foam_Texture_Thin'].isnull() == False] = 1\n",
    "df['Foam_Texture_Thin'].loc[df['Foam_Texture_Thin'].isnull() == True] = 0\n",
    "\n",
    "df['Foam_Texture_Intrpt'] = df['Collar of Foam (Texture)'].loc[df['Collar of Foam (Texture)'].str.contains(r'\\bInterrupted') == True] \n",
    "df['Foam_Texture_Intrpt'].loc[df['Foam_Texture_Intrpt'].isnull() == False] = 1\n",
    "df['Foam_Texture_Intrpt'].loc[df['Foam_Texture_Intrpt'].isnull() == True] = 0\n",
    "\n",
    "df['Foam_Texture_Foamy'] = df['Collar of Foam (Texture)'].loc[df['Collar of Foam (Texture)'].str.contains(r'\\bFoamy') == True] \n",
    "df['Foam_Texture_Foamy'].loc[df['Foam_Texture_Foamy'].isnull() == False] = 1\n",
    "df['Foam_Texture_Foamy'].loc[df['Foam_Texture_Foamy'].isnull() == True] = 0\n",
    "\n",
    "df['Foam_Texture_Fluffy'] = df['Collar of Foam (Texture)'].loc[df['Collar of Foam (Texture)'].str.contains(r'\\bFluffy') == True] \n",
    "df['Foam_Texture_Fluffy'].loc[df['Foam_Texture_Fluffy'].isnull() == False] = 1\n",
    "df['Foam_Texture_Fluffy'].loc[df['Foam_Texture_Fluffy'].isnull() == True] = 0\n",
    "\n",
    "df['Foam_Texture_Rocky'] = df['Collar of Foam (Texture)'].loc[df['Collar of Foam (Texture)'].str.contains(r'\\bRocky') == True] \n",
    "df['Foam_Texture_Rocky'].loc[df['Foam_Texture_Rocky'].isnull() == False] = 1\n",
    "df['Foam_Texture_Rocky'].loc[df['Foam_Texture_Rocky'].isnull() == True] = 0\n",
    "\n",
    "df['Foam_Texture_Mousse'] = df['Collar of Foam (Texture)'].loc[df['Collar of Foam (Texture)'].str.contains(r'\\bMousse') == True] \n",
    "df['Foam_Texture_Mousse'].loc[df['Foam_Texture_Mousse'].isnull() == False] = 1\n",
    "df['Foam_Texture_Mousse'].loc[df['Foam_Texture_Mousse'].isnull() == True] = 0\n",
    "\n",
    "df['Foam_Texture_Varies'] = df['Collar of Foam (Texture)'].loc[df['Collar of Foam (Texture)'].str.contains(r'\\bVaries') == True] \n",
    "df['Foam_Texture_Varies'].loc[df['Foam_Texture_Varies'].isnull() == False] = 1\n",
    "df['Foam_Texture_Varies'].loc[df['Foam_Texture_Varies'].isnull() == True] = 0"
   ]
  },
  {
   "cell_type": "code",
   "execution_count": 19,
   "metadata": {},
   "outputs": [
    {
     "name": "stderr",
     "output_type": "stream",
     "text": [
      "/Users/Mengfei/anaconda/lib/python3.6/site-packages/pandas/core/indexing.py:179: SettingWithCopyWarning: \n",
      "A value is trying to be set on a copy of a slice from a DataFrame\n",
      "\n",
      "See the caveats in the documentation: http://pandas.pydata.org/pandas-docs/stable/indexing.html#indexing-view-versus-copy\n",
      "  self._setitem_with_indexer(indexer, value)\n"
     ]
    }
   ],
   "source": [
    "#Palate Body: Drying, Soft, Moderate, Mouth-Coating, Sticky, Varies\n",
    "#Create binary columns for each value\n",
    "df['Pt_Body_Dry'] = df['Palate Body'].loc[df['Palate Body'].str.contains(r'\\bDrying') == True] \n",
    "df['Pt_Body_Dry'].loc[df['Pt_Body_Dry'].isnull() == False] = 1\n",
    "df['Pt_Body_Dry'].loc[df['Pt_Body_Dry'].isnull() == True] = 0\n",
    "\n",
    "df['Pt_Body_Soft'] = df['Palate Body'].loc[df['Palate Body'].str.contains(r'\\bSoft') == True] \n",
    "df['Pt_Body_Soft'].loc[df['Pt_Body_Soft'].isnull() == False] = 1\n",
    "df['Pt_Body_Soft'].loc[df['Pt_Body_Soft'].isnull() == True] = 0\n",
    "\n",
    "df['Pt_Body_Mod'] = df['Palate Body'].loc[df['Palate Body'].str.contains(r'\\bModerate') == True] \n",
    "df['Pt_Body_Mod'].loc[df['Pt_Body_Mod'].isnull() == False] = 1\n",
    "df['Pt_Body_Mod'].loc[df['Pt_Body_Mod'].isnull() == True] = 0\n",
    "\n",
    "df['Pt_Body_Mthct'] = df['Palate Body'].loc[df['Palate Body'].str.contains(r'\\bMouth-Coating') == True] \n",
    "df['Pt_Body_Mthct'].loc[df['Pt_Body_Mthct'].isnull() == False] = 1\n",
    "df['Pt_Body_Mthct'].loc[df['Pt_Body_Mthct'].isnull() == True] = 0\n",
    "\n",
    "df['Pt_Body_Sticky'] = df['Palate Body'].loc[df['Palate Body'].str.contains(r'\\bSticky') == True] \n",
    "df['Pt_Body_Sticky'].loc[df['Pt_Body_Sticky'].isnull() == False] = 1\n",
    "df['Pt_Body_Sticky'].loc[df['Pt_Body_Sticky'].isnull() == True] = 0\n",
    "\n",
    "df['Pt_Body_Varies'] = df['Palate Body'].loc[df['Palate Body'].str.contains(r'\\bVaries') == True] \n",
    "df['Pt_Body_Varies'].loc[df['Pt_Body_Varies'].isnull() == False] = 1\n",
    "df['Pt_Body_Varies'].loc[df['Pt_Body_Varies'].isnull() == True] = 0"
   ]
  },
  {
   "cell_type": "code",
   "execution_count": 20,
   "metadata": {},
   "outputs": [
    {
     "name": "stderr",
     "output_type": "stream",
     "text": [
      "/Users/Mengfei/anaconda/lib/python3.6/site-packages/pandas/core/indexing.py:179: SettingWithCopyWarning: \n",
      "A value is trying to be set on a copy of a slice from a DataFrame\n",
      "\n",
      "See the caveats in the documentation: http://pandas.pydata.org/pandas-docs/stable/indexing.html#indexing-view-versus-copy\n",
      "  self._setitem_with_indexer(indexer, value)\n"
     ]
    }
   ],
   "source": [
    "#Palate Carbonation: Very Low, Low, Medium, High\n",
    "#Create binary columns for each value\n",
    "df['Pt_Carb_VLow'] = df['Palate Carbonation'].loc[df['Palate Carbonation'].str.contains(r'\\bVery Low') == True] \n",
    "df['Pt_Carb_VLow'].loc[df['Pt_Carb_VLow'].isnull() == False] = 1\n",
    "df['Pt_Carb_VLow'].loc[df['Pt_Carb_VLow'].isnull() == True] = 0 \n",
    "\n",
    "df['Pt_Carb_Low'] = df['Palate Carbonation'].loc[df['Palate Carbonation'].str.contains(r'^Low') == True] \n",
    "df['Pt_Carb_Low'].loc[df['Pt_Carb_Low'].isnull() == False] = 1\n",
    "df['Pt_Carb_Low'].loc[df['Pt_Carb_Low'].isnull() == True] = 0 \n",
    "\n",
    "df['Pt_Carb_Med'] = df['Palate Carbonation'].loc[df['Palate Carbonation'].str.contains(r'\\bMedium') == True] \n",
    "df['Pt_Carb_Med'].loc[df['Pt_Carb_Med'].isnull() == False] = 1\n",
    "df['Pt_Carb_Med'].loc[df['Pt_Carb_Med'].isnull() == True] = 0 \n",
    "\n",
    "df['Pt_Carb_High'] = df['Palate Carbonation'].loc[df['Palate Carbonation'].str.contains(r'\\bHigh') == True] \n",
    "df['Pt_Carb_High'].loc[df['Pt_Carb_High'].isnull() == False] = 1\n",
    "df['Pt_Carb_High'].loc[df['Pt_Carb_High'].isnull() == True] = 0 "
   ]
  },
  {
   "cell_type": "code",
   "execution_count": 21,
   "metadata": {},
   "outputs": [
    {
     "name": "stderr",
     "output_type": "stream",
     "text": [
      "/Users/Mengfei/anaconda/lib/python3.6/site-packages/pandas/core/indexing.py:179: SettingWithCopyWarning: \n",
      "A value is trying to be set on a copy of a slice from a DataFrame\n",
      "\n",
      "See the caveats in the documentation: http://pandas.pydata.org/pandas-docs/stable/indexing.html#indexing-view-versus-copy\n",
      "  self._setitem_with_indexer(indexer, value)\n"
     ]
    }
   ],
   "source": [
    "#Palate Length/Finish: Short, Medium, Long, Varies\n",
    "#Create binary columns for each value\n",
    "df['Pt_Len_Short'] = df['Palate Length/Finish'].loc[df['Palate Length/Finish'].str.contains(r'\\bShort') == True] \n",
    "df['Pt_Len_Short'].loc[df['Pt_Len_Short'].isnull() == False] = 1\n",
    "df['Pt_Len_Short'].loc[df['Pt_Len_Short'].isnull() == True] = 0 \n",
    "\n",
    "df['Pt_Len_Med'] = df['Palate Length/Finish'].loc[df['Palate Length/Finish'].str.contains(r'\\bMedium') == True] \n",
    "df['Pt_Len_Med'].loc[df['Pt_Len_Med'].isnull() == False] = 1\n",
    "df['Pt_Len_Med'].loc[df['Pt_Len_Med'].isnull() == True] = 0  \n",
    "\n",
    "df['Pt_Len_Long'] = df['Palate Length/Finish'].loc[df['Palate Length/Finish'].str.contains(r'\\bLong') == True] \n",
    "df['Pt_Len_Long'].loc[df['Pt_Len_Long'].isnull() == False] = 1\n",
    "df['Pt_Len_Long'].loc[df['Pt_Len_Long'].isnull() == True] = 0  \n",
    "\n",
    "df['Pt_Len_Varies'] = df['Palate Length/Finish'].loc[df['Palate Length/Finish'].str.contains(r'\\bVaries') == True] \n",
    "df['Pt_Len_Varies'].loc[df['Pt_Len_Varies'].isnull() == False] = 1\n",
    "df['Pt_Len_Varies'].loc[df['Pt_Len_Varies'].isnull() == True] = 0  "
   ]
  },
  {
   "cell_type": "code",
   "execution_count": 22,
   "metadata": {},
   "outputs": [
    {
     "name": "stderr",
     "output_type": "stream",
     "text": [
      "/Users/Mengfei/anaconda/lib/python3.6/site-packages/pandas/core/indexing.py:179: SettingWithCopyWarning: \n",
      "A value is trying to be set on a copy of a slice from a DataFrame\n",
      "\n",
      "See the caveats in the documentation: http://pandas.pydata.org/pandas-docs/stable/indexing.html#indexing-view-versus-copy\n",
      "  self._setitem_with_indexer(indexer, value)\n"
     ]
    }
   ],
   "source": [
    "#Esters: Fruit(Citrus, Orange, Lemon, Banana, Cherry, Pear, Apple, Grape, Plum, Prune), Smoke/Smoky \n",
    "    #Date, Fig, Pine, Raisin\n",
    "#Create binary columns for each value\n",
    "df['Esters_Fruit'] = df['Esters'].loc[df['Esters'].str.contains\n",
    "                                      (r'\\bfruit| \\bcitrus| \\borange| \\blemon| \\bbanana| \\bcherry| \\bpear| \\bapple| \\bgrape| \\bplum| \\bprune',\n",
    "                                       case = False) == True] \n",
    "df['Esters_Fruit'].loc[df['Esters_Fruit'].isnull() == False] = 1\n",
    "df['Esters_Fruit'].loc[df['Esters_Fruit'].isnull() == True] = 0 \n",
    "\n",
    "df['Esters_Smoke'] = df['Esters'].loc[df['Esters'].str.contains(r'\\bsmoke| \\bsmoky', case = False) == True] \n",
    "df['Esters_Smoke'].loc[df['Esters_Smoke'].isnull() == False] = 1\n",
    "df['Esters_Smoke'].loc[df['Esters_Smoke'].isnull() == True] = 0 \n",
    "\n",
    "df['Esters_Date'] = df['Esters'].loc[df['Esters'].str.contains(r'\\bdate', case = False) == True] \n",
    "df['Esters_Date'].loc[df['Esters_Date'].isnull() == False] = 1\n",
    "df['Esters_Date'].loc[df['Esters_Date'].isnull() == True] = 0 \n",
    "\n",
    "df['Esters_Fig'] = df['Esters'].loc[df['Esters'].str.contains(r'\\bfig', case = False) == True] \n",
    "df['Esters_Fig'].loc[df['Esters_Fig'].isnull() == False] = 1\n",
    "df['Esters_Fig'].loc[df['Esters_Fig'].isnull() == True] = 0 \n",
    "\n",
    "df['Esters_Pine'] = df['Esters'].loc[df['Esters'].str.contains(r'\\bpine', case = False) == True] \n",
    "df['Esters_Pine'].loc[df['Esters_Pine'].isnull() == False] = 1\n",
    "df['Esters_Pine'].loc[df['Esters_Pine'].isnull() == True] = 0 \n",
    "\n",
    "df['Esters_Raisin'] = df['Esters'].loc[df['Esters'].str.contains(r'\\braisin', case = False) == True] \n",
    "df['Esters_Raisin'].loc[df['Esters_Raisin'].isnull() == False] = 1\n",
    "df['Esters_Raisin'].loc[df['Esters_Raisin'].isnull() == True] = 0"
   ]
  },
  {
   "cell_type": "code",
   "execution_count": null,
   "metadata": {
    "collapsed": true
   },
   "outputs": [],
   "source": []
  }
 ],
 "metadata": {
  "kernelspec": {
   "display_name": "Python 3",
   "language": "python",
   "name": "python3"
  },
  "language_info": {
   "codemirror_mode": {
    "name": "ipython",
    "version": 3
   },
   "file_extension": ".py",
   "mimetype": "text/x-python",
   "name": "python",
   "nbconvert_exporter": "python",
   "pygments_lexer": "ipython3",
   "version": "3.6.1"
  }
 },
 "nbformat": 4,
 "nbformat_minor": 2
}
