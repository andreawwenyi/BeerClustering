{
 "cells": [
  {
   "cell_type": "code",
   "execution_count": 16,
   "metadata": {
    "collapsed": true
   },
   "outputs": [],
   "source": [
    "import pandas as pd\n",
    "import numpy as np"
   ]
  },
  {
   "cell_type": "code",
   "execution_count": 17,
   "metadata": {
    "collapsed": true
   },
   "outputs": [],
   "source": [
    "file = open('beerguide.txt', 'rt')\n",
    "lines = file.readlines()\n",
    "file.close()\n",
    "\n",
    "lines[:] = [element for element in lines if element != '\\n' ]\n",
    "lines = [i.split('\\n', 1)[0] for i in lines]"
   ]
  },
  {
   "cell_type": "code",
   "execution_count": 18,
   "metadata": {
    "collapsed": true,
    "scrolled": true
   },
   "outputs": [],
   "source": [
    "#Get the list of all 79 beers\n",
    "a = lines.index('Table of Contents')\n",
    "b = lines.index('Specialty Beer')\n",
    "\n",
    "beerlist = lines[a:b+1]\n",
    "beerlist[:] = [element for element in beerlist if '\\ue004' not in element][1:]"
   ]
  },
  {
   "cell_type": "code",
   "execution_count": 19,
   "metadata": {
    "collapsed": true
   },
   "outputs": [],
   "source": [
    "#Replace irregular characters produced from converting pdf\n",
    "word_replace_dict = {'\\xa0': ' ', \n",
    "                     '\\xad': '-',\n",
    "                     '\\x0c':'',\n",
    "                    '\\ue000':'B',\n",
    "                    '\\ue001':'E',\n",
    "                    '\\ue002':'S',\n",
    "                    '\\ue004':'s',\n",
    "                    '\\ue006':'y'}\n",
    "beerdes = lines[b+1:]\n",
    "\n",
    "for k,v in word_replace_dict.items():\n",
    "    beerdes = [word.replace(k,v) for word in beerdes]"
   ]
  },
  {
   "cell_type": "code",
   "execution_count": 20,
   "metadata": {
    "collapsed": true
   },
   "outputs": [],
   "source": [
    "#List all the features we want to include in the model\n",
    "feature = ['IBU', 'BU:GU', 'CO2 Volumes', 'Apparent Attenuation', 'Alcohol', \n",
    "             'Collar of Foam (Head Retention)', 'Collar of Foam (Texture)',\n",
    "            'Hop Aroma/Flavor', 'Hop bitterness','Malt Aroma/Flavor',\n",
    "            'Palate Body', 'Palate Carbonation', 'Palate Length/Finish', 'Esters']"
   ]
  },
  {
   "cell_type": "code",
   "execution_count": 21,
   "metadata": {
    "collapsed": true
   },
   "outputs": [],
   "source": [
    "#Create a dictionary that lists values for all the features\n",
    "def beer_info(beer,character):\n",
    "    l = []\n",
    "    for i in range(len(character)):\n",
    "        if character[i] == 'Alcohol':\n",
    "            l.append([beer [beer.index('Alcohol')+1]][0])\n",
    "        \n",
    "        else:\n",
    "            a = [element for element in beer if character[i] in element]\n",
    "            if a:\n",
    "                l.append(a[0].split(character[i],1)[1])\n",
    "            else:\n",
    "                l.append(np.nan)\n",
    "               \n",
    "    return l"
   ]
  },
  {
   "cell_type": "code",
   "execution_count": 22,
   "metadata": {
    "collapsed": true
   },
   "outputs": [],
   "source": [
    "# %debug\n",
    "beer_dic = {}\n",
    "\n",
    "for j in range(len(beerlist)):\n",
    "    if j == len(beerlist)-1:\n",
    "        b = beerdes[beerdes.index(beerlist[j]):]\n",
    "    else:\n",
    "        b = beerdes[beerdes.index(beerlist[j]):beerdes.index(beerlist[j+1])]\n",
    "    beer_dic[beerlist[j]] = beer_info(beer = b, character = feature)"
   ]
  },
  {
   "cell_type": "code",
   "execution_count": 34,
   "metadata": {
    "collapsed": true
   },
   "outputs": [],
   "source": [
    "#Convert dictionary to dataframe\n",
    "data = pd.DataFrame(beer_dic, index= feature).transpose()\n",
    "data.fillna('None', inplace = True)\n",
    "\n",
    "#Fix a few lost values from converting pdf\n",
    "data.loc['Bohemian-Style Pilsener'].IBU = '30 - 45'\n",
    "data.loc['Bohemian-Style Pilsener']['Hop bitterness'] = 'medium'"
   ]
  },
  {
   "cell_type": "code",
   "execution_count": 39,
   "metadata": {
    "collapsed": false
   },
   "outputs": [],
   "source": [
    "df = data.copy()"
   ]
  },
  {
   "cell_type": "code",
   "execution_count": 40,
   "metadata": {
    "collapsed": false
   },
   "outputs": [],
   "source": [
    "# for i in df.columns:\n",
    "#     print(i, '\\n', df[i].unique())"
   ]
  },
  {
   "cell_type": "code",
   "execution_count": 41,
   "metadata": {
    "collapsed": false
   },
   "outputs": [
    {
     "name": "stderr",
     "output_type": "stream",
     "text": [
      "/Users/AndreaWenYiWang/anaconda/lib/python3.6/site-packages/pandas/core/indexing.py:179: SettingWithCopyWarning: \n",
      "A value is trying to be set on a copy of a slice from a DataFrame\n",
      "\n",
      "See the caveats in the documentation: http://pandas.pydata.org/pandas-docs/stable/indexing.html#indexing-view-versus-copy\n",
      "  self._setitem_with_indexer(indexer, value)\n"
     ]
    }
   ],
   "source": [
    "###Feature Engineering\n",
    "\n",
    "\n",
    "#Clean IBU, BU:GU, Apparent Attenuation\n",
    "#Use mid-point of the range\n",
    "#If varies, use most frequent value\n",
    "\n",
    "df['IBU'] = df['IBU'].str.strip()\n",
    "df_IBU_most_freq = df['IBU'].loc[df['IBU'] != 'Varies'].value_counts().idxmax()\n",
    "df['IBU'].loc[df['IBU'] == 'Varies'] = df_IBU_most_freq\n",
    "df['IBU'] = (df.IBU.str.split(' ').str[0].astype(float) + df.IBU.str.split(' ').str[2].astype(float))/2\n",
    "\n",
    "df['BU:GU'] = df['BU:GU'].str.strip()\n",
    "df_BUGU_most_freq = df['BU:GU'].loc[df['BU:GU'] != 'Varies'].value_counts().idxmax()\n",
    "df['BU:GU'].loc[df['BU:GU'] == 'Varies'] = '0.5 - 0.5'\n",
    "df['BU:GU'] = (df['BU:GU'].str.split(' ').str[0].astype(float) + df['BU:GU'].str.split(' ').str[2].astype(float))/2\n",
    "\n",
    "df['Apparent Attenuation'] = df['Apparent Attenuation'].str.strip()\n",
    "df_att_most_freq = df['Apparent Attenuation'].loc[df['Apparent Attenuation'] != 'Varies'].value_counts().idxmax()\n",
    "df['Apparent Attenuation'].loc[df['Apparent Attenuation'] == 'Varies'] = '50 - 50'\n",
    "df['Apparent Attenuation'] = (df['Apparent Attenuation'].str.split(' ').str[0].astype(float) + df['Apparent Attenuation'].str.split(' ').str[2].astype(float))/2\n",
    "\n",
    "#Clean CO2 Volumes\n",
    "#Use mid-point of the range\n",
    "#If varies, use most frequent value\n",
    "#If approximately, use the approximation value\n",
    "\n",
    "df['CO2 Volumes'] = df['CO2 Volumes'].str.strip()\n",
    "df_CO2_most_freq = df['CO2 Volumes'].loc[df['CO2 Volumes'] != 'Varies'].value_counts().idxmax()\n",
    "df['CO2 Volumes'].loc[df['CO2 Volumes'] == 'Varies'] = '2.5 - 2.5'\n",
    "df['CO2 Volumes'] = df['CO2 Volumes'].str.replace(r'\\b approximately', '')\n",
    "\n",
    "CO2_1st_all = df['CO2 Volumes'].str.split(' ').str[0].astype(float)\n",
    "CO2_3rd_all = df['CO2 Volumes'].str.split(' ').str[2].astype(float)\n",
    "CO2_1st_no_nan = df['CO2 Volumes'].loc[CO2_3rd_all.isnull() == False].str.split(' ').str[0].astype(float)\n",
    "CO2_3rd_no_nan = df['CO2 Volumes'].loc[CO2_3rd_all.isnull() == False].str.split(' ').str[2].astype(float)\n",
    "\n",
    "df['CO2 Volumes'].loc[CO2_3rd_all.isnull() == True] = CO2_1st_all\n",
    "df['CO2 Volumes'].loc[CO2_3rd_all.isnull() == False] = (CO2_1st_no_nan + CO2_3rd_no_nan) / 2"
   ]
  },
  {
   "cell_type": "code",
   "execution_count": 42,
   "metadata": {
    "collapsed": false
   },
   "outputs": [],
   "source": [
    "#Alcohol: Not detectable, Mild, Noticeable, Harsh/Hot， Varies\n",
    "#Create binary columns for each value\n",
    "i = 'Alcohol'\n",
    "c = {'Not_Det':['not detectable'], 'Mild':['mild'], 'Noticeable':['noticeable'], 'Varies':['varies'], \n",
    "     'Harsh':['hot', 'harsh']}\n",
    "\n",
    "for k,v in c.items():\n",
    "    df['Alcohol_' + k] = [1 if any(x in df[i][w].lower() for x in c[k]) else 0 for w in range(len(df))]\n",
    "df.drop(i,1,inplace = True)\n",
    "\n",
    "#Collar of Foam (Head Retention): Poor, Moderate, Good, Varies\n",
    "#Create binary columns for each value\n",
    "i = 'Collar of Foam (Head Retention)'\n",
    "c = {'Poor':['poor'], 'Mod':['moderate'], 'Good':['good'], 'Varies':['varies']}\n",
    "\n",
    "for k,v in c.items():\n",
    "    df['Foam_Head_Ret_' + k] = [1 if any(x in df[i][w].lower() for x in c[k]) else 0 for w in range(len(df))]\n",
    "df.drop(i,1,inplace = True)\n",
    "\n",
    "\n",
    "#Collar of Foam (Texture): Thin, Interrupted, Foamy, Fluffy, Rocky, Mousse-like, Varies\n",
    "#Create binary columns for each value\n",
    "i = 'Collar of Foam (Texture)'\n",
    "c = {'Thin':['thin'], 'Intrpt':['interrupted'],'Foamy':['foam'], 'Fluffy':['fluf'], 'Rocky':['rock'],\n",
    "    'Mousse':['mous'], 'Varies':['varies']}\n",
    "\n",
    "for k,v in c.items():\n",
    "    df['Foam_Texture_' + k] = [1 if any(x in df[i][w].lower() for x in c[k]) else 0 for w in range(len(df))]\n",
    "df.drop(i,1,inplace = True)\n",
    "\n",
    "#Palate Body: Drying, Soft, Moderate, Mouth-Coating, Sticky, Varies\n",
    "#Create binary columns for each value\n",
    "i = 'Palate Body'\n",
    "c = {'Drying':['dry'], 'Soft':['soft'], 'Mod':['moderate'], 'Mthct':['mouth-coating'], 'Sticky':['stick'], \n",
    "     'Varies':['varies']}\n",
    "\n",
    "for k,v in c.items():\n",
    "    df['Pt_Body_' + k] = [1 if any(x in df[i][w].lower() for x in c[k]) else 0 for w in range(len(df))]\n",
    "df.drop(i,1,inplace = True)\n",
    "\n",
    "#Palate Carbonation: Very Low, Low, Medium, High\n",
    "#Create binary columns for each value\n",
    "i = 'Palate Carbonation'\n",
    "c = {'VLow':['very low'], 'Low':['low'], 'Med':['medium'], 'High':['high']}\n",
    "\n",
    "for k,v in c.items():\n",
    "    df['Pt_Carb_' + k] = [1 if any(x in df[i][w].lower() for x in c[k]) else 0 for w in range(len(df))]\n",
    "\n",
    "df.drop(i,1,inplace = True)\n",
    "\n",
    "\n",
    "#Palate Length/Finish: Short, Medium, Long, Varies\n",
    "#Create binary columns for each value\n",
    "\n",
    "i = 'Palate Length/Finish'\n",
    "c = {'Short':['short'], 'Med':['medium'], 'Long':['long'], 'Varies':['varies']}\n",
    "\n",
    "for k,v in c.items():\n",
    "    df['Pt_Len_' + k] = [1 if any(x in df[i][w].lower() for x in c[k]) else 0 for w in range(len(df))]\n",
    "\n",
    "df.drop(i,1,inplace = True)    \n",
    "\n",
    "#Esters: Fruit(Citrus, Orange, Lemon, Banana, Cherry, Pear, Apple, Grape, Plum, Prune), Smoke/Smoky \n",
    "    #Date, Fig, Pine, Raisin\n",
    "#Create binary columns for each value\n",
    "i = 'Esters'\n",
    "c = {'Fruit':['fruit', 'citrus','orange','lemon','banana','cherry','pear','apple','grape','plum','prune', 'fig'],\n",
    "    'Smoke':['smok'], 'Date':['date'], 'Pine':['pine'], 'Raisin':['raisin']}\n",
    "\n",
    "for k,v in c.items():\n",
    "    df['Esters' + k] = [1 if any(x in df[i][w].lower() for x in c[k]) else 0 for w in range(len(df))]\n",
    "\n",
    "df.drop(i,1,inplace = True)\n",
    "    \n",
    "#Hop bitterness: very low (minimal), low, medium, high\n",
    "#Create binary columns for each value\n",
    "i = 'Hop bitterness'\n",
    "\n",
    "c = {'minimal':['None,','absent', 'not perceived', 'very low', 'minimal', 'not perceived'], \n",
    "     'low':['low'], 'medium':['medium', 'moderate'], 'high':['high','strong']}\n",
    "\n",
    "for k,v in c.items():\n",
    "    df['Hopbit_' + k] = [1 if any(x in df[i][w].lower() for x in c[k]) else 0 for w in range(len(df))]\n",
    "\n",
    "df.drop(i,1,inplace = True)\n",
    "#Hop aroma: Citrus, Fruity, Floral, Fresh, Herbal, woody, chocolate; very low (minimal), low, medium, high\n",
    "\n",
    "i = 'Hop Aroma/Flavor'\n",
    "c = {'minimal':['None,','absent', 'not perceived', 'very low', 'minimal', 'not perceived'], \n",
    "     'low':['low'], 'medium':['medium', 'moderate'], 'high':['high','strong'],\n",
    "    'flower':['flower','floral'], 'herb':['herb'], 'citrus':['citrus'], 'choco':['choco','cocoa'], \n",
    "    'wood':['wood'],'fresh': ['fresh']}\n",
    "\n",
    "for k,v in c.items():\n",
    "    df['Hop_AF_' + k] = [1 if any(x in df[i][w].lower() for x in c[k]) else 0 for w in range(len(df))]\n",
    "df.drop(i,1,inplace = True) \n",
    "\n",
    "#Malt Aroma Flavor \n",
    "i = 'Malt Aroma/Flavor'\n",
    "c = {'choco': ['choco', 'cocoa'], 'caramel' : ['caram', 'toffee'], 'burnt':['burnt'], 'varies':['varies'], \n",
    "     'wheat':['wheat', 'bread', 'toast'], \n",
    "     'sweet': ['sweet'], 'dry':['dry']}\n",
    "\n",
    "for k,v in c.items():\n",
    "    df['MaltAF_' + k] = [1 if any(x in df[i][w].lower() for x in c[k]) else 0 for w in range(len(df))] \n",
    "df.drop(i,1,inplace = True)\n"
   ]
  },
  {
   "cell_type": "code",
   "execution_count": 43,
   "metadata": {
    "collapsed": false
   },
   "outputs": [
    {
     "name": "stdout",
     "output_type": "stream",
     "text": [
      "IBU \n",
      " [ 35.   24.   80.   60.   25.   16.   42.5  70.   65.   10.   40.   47.5\n",
      "  22.5  37.5  27.5  11.5  18.   29.   32.5  13.5   4.5  20.   50.   30.\n",
      "  12.5  49.   17.   26.   38.5  22.   20.5  21.5  23.   50.5  82.5]\n",
      "BU:GU \n",
      " [ 0.7    0.485  0.75   0.91   0.5    0.685  0.325  0.88   0.47   0.77   0.71\n",
      "  0.22   0.84   0.45   0.61   0.48   0.36   0.365  0.215  0.335  0.415\n",
      "  0.305  0.505  0.39   0.285  0.15   0.74   0.79   0.43   0.455  0.275\n",
      "  0.765  0.44   0.55   0.84   0.62   0.63   0.605  0.355  0.405  0.785\n",
      "  0.24   0.65   0.54   0.335  0.265  0.47   0.935  0.81   0.615  0.38   0.4\n",
      "  0.58   0.51   0.49 ]\n",
      "CO2 Volumes \n",
      " [2.25 2.5 2.45 2.75 3.5 4.0 1.25 3.25 3.75 1.75 3.9 2.0]\n",
      "Apparent Attenuation \n",
      " [ 72.     75.     77.5    50.     72.5    86.     78.     73.5    77.915\n",
      "  77.     75.5    78.5    73.     81.5    79.5    76.5    79.     91.     83.\n",
      "  84.5    83.5    66.     74.5    78.14   76.     74.     82.5    71.5    71.\n",
      "  68.5    70.5    69.5    82.   ]\n",
      "Alcohol_Not_Det \n",
      " [0 1]\n",
      "Alcohol_Mild \n",
      " [1 0]\n",
      "Alcohol_Noticeable \n",
      " [1 0]\n",
      "Alcohol_Varies \n",
      " [0 1]\n",
      "Alcohol_Harsh \n",
      " [0 1]\n",
      "Foam_Head_Ret_Poor \n",
      " [0 1]\n",
      "Foam_Head_Ret_Mod \n",
      " [0 1]\n",
      "Foam_Head_Ret_Good \n",
      " [1 0]\n",
      "Foam_Head_Ret_Varies \n",
      " [0 1]\n",
      "Foam_Texture_Thin \n",
      " [0 1]\n",
      "Foam_Texture_Intrpt \n",
      " [0 1]\n",
      "Foam_Texture_Foamy \n",
      " [1 0]\n",
      "Foam_Texture_Fluffy \n",
      " [0 1]\n",
      "Foam_Texture_Rocky \n",
      " [0 1]\n",
      "Foam_Texture_Mousse \n",
      " [0 1]\n",
      "Foam_Texture_Varies \n",
      " [0 1]\n",
      "Pt_Body_Drying \n",
      " [0 1]\n",
      "Pt_Body_Soft \n",
      " [0 1]\n",
      "Pt_Body_Mod \n",
      " [0 1]\n",
      "Pt_Body_Mthct \n",
      " [1 0]\n",
      "Pt_Body_Sticky \n",
      " [0 1]\n",
      "Pt_Body_Varies \n",
      " [0 1]\n",
      "Pt_Carb_VLow \n",
      " [0 1]\n",
      "Pt_Carb_Low \n",
      " [0 1]\n",
      "Pt_Carb_Med \n",
      " [1 0]\n",
      "Pt_Carb_High \n",
      " [1 0]\n",
      "Pt_Len_Short \n",
      " [1 0]\n",
      "Pt_Len_Med \n",
      " [1 0]\n",
      "Pt_Len_Long \n",
      " [0 1]\n",
      "Pt_Len_Varies \n",
      " [0 1]\n",
      "EstersFruit \n",
      " [1 0]\n",
      "EstersSmoke \n",
      " [0 1]\n",
      "EstersDate \n",
      " [0 1]\n",
      "EstersPine \n",
      " [0 1]\n",
      "EstersRaisin \n",
      " [0 1]\n",
      "Hopbit_minimal \n",
      " [0 1]\n",
      "Hopbit_low \n",
      " [0 1]\n",
      "Hopbit_medium \n",
      " [0 1]\n",
      "Hopbit_high \n",
      " [0 1]\n",
      "Hop_AF_minimal \n",
      " [0 1]\n",
      "Hop_AF_low \n",
      " [0 1]\n",
      "Hop_AF_medium \n",
      " [1 0]\n",
      "Hop_AF_high \n",
      " [0 1]\n",
      "Hop_AF_flower \n",
      " [0 1]\n",
      "Hop_AF_herb \n",
      " [0 1]\n",
      "Hop_AF_citrus \n",
      " [1 0]\n",
      "Hop_AF_choco \n",
      " [0 1]\n",
      "Hop_AF_wood \n",
      " [0 1]\n",
      "Hop_AF_fresh \n",
      " [0 1]\n",
      "MaltAF_choco \n",
      " [0 1]\n",
      "MaltAF_caramel \n",
      " [1 0]\n",
      "MaltAF_burnt \n",
      " [0 1]\n",
      "MaltAF_varies \n",
      " [0 1]\n",
      "MaltAF_wheat \n",
      " [0 1]\n",
      "MaltAF_sweet \n",
      " [0 1]\n",
      "MaltAF_dry \n",
      " [0 1]\n"
     ]
    }
   ],
   "source": [
    "for i in df.columns:\n",
    "    print(i, '\\n', df[i].unique())"
   ]
  }
 ],
 "metadata": {
  "kernelspec": {
   "display_name": "Python 3",
   "language": "python",
   "name": "python3"
  },
  "language_info": {
   "codemirror_mode": {
    "name": "ipython",
    "version": 3
   },
   "file_extension": ".py",
   "mimetype": "text/x-python",
   "name": "python",
   "nbconvert_exporter": "python",
   "pygments_lexer": "ipython3",
   "version": "3.6.0"
  }
 },
 "nbformat": 4,
 "nbformat_minor": 2
}
